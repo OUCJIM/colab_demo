{
  "nbformat": 4,
  "nbformat_minor": 0,
  "metadata": {
    "colab": {
      "name": "06_Autoencoder.ipynb",
      "provenance": [],
      "collapsed_sections": [],
      "authorship_tag": "ABX9TyNkwE7UxIeORjrHb0VPVdNK",
      "include_colab_link": true
    },
    "kernelspec": {
      "name": "python3",
      "display_name": "Python 3"
    },
    "accelerator": "GPU"
  },
  "cells": [
    {
      "cell_type": "markdown",
      "metadata": {
        "id": "view-in-github",
        "colab_type": "text"
      },
      "source": [
        "<a href=\"https://colab.research.google.com/github/OUCTheoryGroup/colab_demo/blob/master/06_Autoencoder.ipynb\" target=\"_parent\"><img src=\"https://colab.research.google.com/assets/colab-badge.svg\" alt=\"Open In Colab\"/></a>"
      ]
    },
    {
      "cell_type": "markdown",
      "metadata": {
        "id": "FX3VZGDlpgQx",
        "colab_type": "text"
      },
      "source": [
        "## 自编码器 Autoencoder\n",
        "\n",
        "大家都学习过理论知识，应该对于自编码器比较了解了\n",
        "\n",
        "下面我们还是结合代码来学习。首先引入基本的库，然后定义了两个后面要使用的函数"
      ]
    },
    {
      "cell_type": "code",
      "metadata": {
        "id": "9uJgIKftoQFC",
        "colab_type": "code",
        "colab": {}
      },
      "source": [
        "# Import some libraries\n",
        "import torch\n",
        "import torchvision\n",
        "from torch import nn\n",
        "from torch.utils.data import DataLoader\n",
        "from torchvision import transforms\n",
        "from torchvision.datasets import MNIST\n",
        "from matplotlib import pyplot as plt\n",
        "\n",
        "# 把输入数据由向量转化为图像\n",
        "def to_img(x):\n",
        "    x = 0.5 * (x + 1)\n",
        "    x = x.view(x.size(0), 28, 28)\n",
        "    return x\n",
        "\n",
        "# 显示图像\n",
        "def display_images(in_, out, n=1):\n",
        "    for N in range(n):\n",
        "        if in_ is not None:\n",
        "            in_pic = to_img(in_.cpu().data)\n",
        "            plt.figure(figsize=(6, 2))\n",
        "            for i in range(4):\n",
        "                plt.subplot(1,4,i+1)\n",
        "                plt.imshow(in_pic[i+4*N], 'gray')\n",
        "                plt.axis('off')\n",
        "        out_pic = to_img(out.cpu().data)\n",
        "        plt.figure(figsize=(6, 2))\n",
        "        for i in range(4):\n",
        "            plt.subplot(1,4,i+1)\n",
        "            plt.imshow(out_pic[i+4*N], 'gray')\n",
        "            plt.axis('off')"
      ],
      "execution_count": 0,
      "outputs": []
    },
    {
      "cell_type": "markdown",
      "metadata": {
        "id": "mr-lr5SFtAcq",
        "colab_type": "text"
      },
      "source": [
        "## 1. 加载数据"
      ]
    },
    {
      "cell_type": "code",
      "metadata": {
        "id": "XIqpDH75ocz4",
        "colab_type": "code",
        "colab": {}
      },
      "source": [
        "# 每次加载数据的 batch_size，即每次加载256张图像\n",
        "batch_size = 256\n",
        "\n",
        "# 使用GPU训练，可以在菜单 \"代码执行工具\" -> \"更改运行时类型\" 里进行设置\n",
        "device = torch.device(\"cuda:0\" if torch.cuda.is_available() else \"cpu\")\n",
        "\n",
        "img_transform = transforms.Compose([\n",
        "    transforms.ToTensor(),\n",
        "    transforms.Normalize((0.5,), (0.5,))\n",
        "])\n",
        "\n",
        "dataset = MNIST('./data', transform=img_transform, download=True)\n",
        "dataloader = DataLoader(dataset, batch_size=batch_size, shuffle=False)"
      ],
      "execution_count": 0,
      "outputs": []
    },
    {
      "cell_type": "markdown",
      "metadata": {
        "id": "PCJkuZBstFIx",
        "colab_type": "text"
      },
      "source": [
        "## 2. 标准自编码器\n",
        "\n",
        "下面代码非常简单，可以看到 Standard AE 输入是 784 维向量，然后中间层有30个节点，然一输入 784 维向量。"
      ]
    },
    {
      "cell_type": "code",
      "metadata": {
        "id": "bE8ymMv5oq_0",
        "colab_type": "code",
        "colab": {}
      },
      "source": [
        "d = 30 \n",
        "\n",
        "class Autoencoder(nn.Module):\n",
        "    def __init__(self):\n",
        "        super().__init__()\n",
        "        self.encoder = nn.Sequential(\n",
        "            nn.Linear(28 * 28, d),\n",
        "            nn.Tanh(),\n",
        "        )\n",
        "        self.decoder = nn.Sequential(\n",
        "            nn.Linear(d, 28 * 28),\n",
        "            nn.Tanh(),\n",
        "        )\n",
        "\n",
        "    def forward(self, x):\n",
        "        x = self.encoder(x)\n",
        "        x = self.decoder(x)\n",
        "        return x\n",
        "\n",
        "#模型放到GPU上，同时定义损失函数和优化器\n",
        "model = Autoencoder().to(device)\n",
        "criterion = nn.MSELoss()\n",
        "learning_rate = 1e-3\n",
        "optimizer = torch.optim.Adam(model.parameters(), lr=learning_rate)"
      ],
      "execution_count": 0,
      "outputs": []
    },
    {
      "cell_type": "markdown",
      "metadata": {
        "id": "JsSupSBnuJ-U",
        "colab_type": "text"
      },
      "source": [
        "下面我们进入模型训练步骤，这里我们跑 3 个 epoch，每轮训练结束，输出一下原图像，以及重建结果。"
      ]
    },
    {
      "cell_type": "code",
      "metadata": {
        "id": "EAHSuwkHo34_",
        "colab_type": "code",
        "outputId": "efdefd11-8e62-4217-a41c-93092cf2834d",
        "colab": {
          "base_uri": "https://localhost:8080/",
          "height": 591
        }
      },
      "source": [
        "num_epochs = 3\n",
        "for epoch in range(num_epochs):\n",
        "    for data in dataloader:\n",
        "        img, _ = data\n",
        "        img = img.to(device)\n",
        "        img.requires_grad_()\n",
        "        img = img.view(img.size(0), -1)\n",
        "        # ===================forward=====================\n",
        "        output = model(img)\n",
        "        loss = criterion(output, img.data)\n",
        "        # ===================backward====================\n",
        "        optimizer.zero_grad()\n",
        "        loss.backward()\n",
        "        optimizer.step()\n",
        "    print(f'epoch [{epoch + 1}/{num_epochs}], loss:{loss.item():.4f}')\n",
        "    display_images(img, output) "
      ],
      "execution_count": 4,
      "outputs": [
        {
          "output_type": "stream",
          "text": [
            "epoch [1/3], loss:0.2129\n",
            "epoch [2/3], loss:0.1656\n",
            "epoch [3/3], loss:0.1378\n"
          ],
          "name": "stdout"
        },
        {
          "output_type": "display_data",
          "data": {
            "image/png": "[encoded data removed]",
            "text/plain": [
              "<Figure size 432x144 with 4 Axes>"
            ]
          },
          "metadata": {
            "tags": []
          }
        },
        {
          "output_type": "display_data",
          "data": {
            "image/png": "[encoded data removed]",
            "text/plain": [
              "<Figure size 432x144 with 4 Axes>"
            ]
          },
          "metadata": {
            "tags": []
          }
        },
        {
          "output_type": "display_data",
          "data": {
            "image/png": "[encoded data removed]",
            "text/plain": [
              "<Figure size 432x144 with 4 Axes>"
            ]
          },
          "metadata": {
            "tags": []
          }
        },
        {
          "output_type": "display_data",
          "data": {
            "image/png": "[encoded data removed]",
            "text/plain": [
              "<Figure size 432x144 with 4 Axes>"
            ]
          },
          "metadata": {
            "tags": []
          }
        },
        {
          "output_type": "display_data",
          "data": {
            "image/png": "[encoded data removed]",
            "text/plain": [
              "<Figure size 432x144 with 4 Axes>"
            ]
          },
          "metadata": {
            "tags": []
          }
        },
        {
          "output_type": "display_data",
          "data": {
            "image/png": "[encoded data removed]",
            "text/plain": [
              "<Figure size 432x144 with 4 Axes>"
            ]
          },
          "metadata": {
            "tags": []
          }
        }
      ]
    },
    {
      "cell_type": "markdown",
      "metadata": {
        "id": "T8nkbSFwyXnj",
        "colab_type": "text"
      },
      "source": [
        "从上面的输出中，我们可以看出，重建的 loss 在下降，因此，从重建的结果来看，基本的轮廓重建较好，但细节有所损失。3 个 epoch 已经看到明显的效果改进，感兴趣的同学可以把epoch改大，多跑几轮，看看效果。\n",
        "\n",
        "## 3. 降噪自编码器\n",
        "\n",
        "下面我们看看降噪自编码器的效果如何。它的特点是，输入的数据是 bad_img，即损坏了的图像；另外，中间层的节点数量会更多一些。"
      ]
    },
    {
      "cell_type": "code",
      "metadata": {
        "id": "lTAGYZEJzFTX",
        "colab_type": "code",
        "colab": {}
      },
      "source": [
        "d = 500  # d 的值由30涨到了500\n",
        "\n",
        "class Denoising_Autoencoder(nn.Module):\n",
        "    def __init__(self):\n",
        "        super().__init__()\n",
        "        self.encoder = nn.Sequential(\n",
        "            nn.Linear(28 * 28, d),\n",
        "            nn.Tanh(),\n",
        "        )\n",
        "        self.decoder = nn.Sequential(\n",
        "            nn.Linear(d, 28 * 28),\n",
        "            nn.Tanh(),\n",
        "        )\n",
        "\n",
        "    def forward(self, x):\n",
        "        x = self.encoder(x)\n",
        "        x = self.decoder(x)\n",
        "        return x\n",
        "    \n",
        "DenosingAE_model = Denoising_Autoencoder().to(device)\n",
        "criterion = nn.MSELoss()\n",
        "learning_rate = 1e-3\n",
        "DenosingAE_optimizer = torch.optim.Adam(DenosingAE_model.parameters(), lr=learning_rate)"
      ],
      "execution_count": 0,
      "outputs": []
    },
    {
      "cell_type": "markdown",
      "metadata": {
        "id": "8FTV1hZXzqRM",
        "colab_type": "text"
      },
      "source": [
        "模型训练步骤，仍然是跑 3 个 epoch，每轮训练结束，输出原图像，以及重建结果。\n",
        "\n",
        "和上面的代码不同的是，使用 nn.Dropout 函数，随机丢弃原图像中的像素，增加重建的难度。"
      ]
    },
    {
      "cell_type": "code",
      "metadata": {
        "id": "I2maUlVfz0Ck",
        "colab_type": "code",
        "outputId": "0eb27860-ecf0-4e8d-a6a7-46814776bb18",
        "colab": {
          "base_uri": "https://localhost:8080/",
          "height": 591
        }
      },
      "source": [
        "num_epochs = 3\n",
        "# 用来丢弃图像中的像素\n",
        "do = nn.Dropout()  \n",
        "for epoch in range(num_epochs):\n",
        "    for data in dataloader:\n",
        "        img = img.to(device)\n",
        "        img.requires_grad_()\n",
        "        img = img.view(img.size(0), -1)\n",
        "        # 随机丢弃图像中的一些像素\n",
        "        noise = do(torch.ones(img.shape)).to(device)\n",
        "        img_bad = (img * noise).to(device)\n",
        "        # ===================forward=====================\n",
        "        output = DenosingAE_model(img_bad) # 这里输入的是 img_bad \n",
        "        loss = criterion(output, img.data)\n",
        "        # ===================backward====================\n",
        "        DenosingAE_optimizer.zero_grad()\n",
        "        loss.backward()\n",
        "        DenosingAE_optimizer.step()\n",
        "    # ===================log========================\n",
        "    print(f'epoch [{epoch + 1}/{num_epochs}], loss:{loss.item():.4f}')\n",
        "    display_images(img_bad, output)"
      ],
      "execution_count": 6,
      "outputs": [
        {
          "output_type": "stream",
          "text": [
            "epoch [1/3], loss:0.0250\n",
            "epoch [2/3], loss:0.0107\n",
            "epoch [3/3], loss:0.0078\n"
          ],
          "name": "stdout"
        },
        {
          "output_type": "display_data",
          "data": {
            "image/png": "[encoded data removed]",
            "text/plain": [
              "<Figure size 432x144 with 4 Axes>"
            ]
          },
          "metadata": {
            "tags": []
          }
        },
        {
          "output_type": "display_data",
          "data": {
            "image/png": "[encoded data removed]",
            "text/plain": [
              "<Figure size 432x144 with 4 Axes>"
            ]
          },
          "metadata": {
            "tags": []
          }
        },
        {
          "output_type": "display_data",
          "data": {
            "image/png": "[encoded data removed]",
            "text/plain": [
              "<Figure size 432x144 with 4 Axes>"
            ]
          },
          "metadata": {
            "tags": []
          }
        },
        {
          "output_type": "display_data",
          "data": {
            "image/png": "[encoded data removed]",
            "text/plain": [
              "<Figure size 432x144 with 4 Axes>"
            ]
          },
          "metadata": {
            "tags": []
          }
        },
        {
          "output_type": "display_data",
          "data": {
            "image/png": "[encoded data removed]",
            "text/plain": [
              "<Figure size 432x144 with 4 Axes>"
            ]
          },
          "metadata": {
            "tags": []
          }
        },
        {
          "output_type": "display_data",
          "data": {
            "image/png": "[encoded data removed]",
            "text/plain": [
              "<Figure size 432x144 with 4 Axes>"
            ]
          },
          "metadata": {
            "tags": []
          }
        }
      ]
    },
    {
      "cell_type": "markdown",
      "metadata": {
        "id": "BtjtGe2LD7p8",
        "colab_type": "text"
      },
      "source": [
        "从 denosing Autoencoder 的示例可以看出，即使输入的是损坏的图像，重建的效果仍然非常好。具体原因大家可以自己思考。"
      ]
    }
  ]
}